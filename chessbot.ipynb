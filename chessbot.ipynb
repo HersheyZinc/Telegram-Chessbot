{
  "cells": [
    {
      "cell_type": "markdown",
      "metadata": {
        "id": "qOyWl-ftN4a_"
      },
      "source": [
        "# Install & import libraries"
      ]
    },
    {
      "cell_type": "code",
      "execution_count": 1,
      "metadata": {
        "id": "VWmzN7te1deC"
      },
      "outputs": [
        {
          "name": "stdout",
          "output_type": "stream",
          "text": [
            "Note: you may need to restart the kernel to use updated packages.\n"
          ]
        }
      ],
      "source": [
        "%pip install -q chess stockfish python-telegram-bot==13 cairosvg zstandard"
      ]
    },
    {
      "cell_type": "markdown",
      "metadata": {
        "id": "BKxsTRwaVhvE"
      },
      "source": [
        "# Introduction to libraries used (with examples)"
      ]
    },
    {
      "cell_type": "markdown",
      "metadata": {
        "id": "EIV_ib6kTKSi"
      },
      "source": [
        "## Python Chess"
      ]
    },
    {
      "cell_type": "markdown",
      "metadata": {
        "id": "5TC7NHZ6V6Fx"
      },
      "source": [
        "python-chess is a chess library for Python, with move generation, move validation, and support for common formats. Read the documentation here: https://python-chess.readthedocs.io/en/latest/"
      ]
    },
    {
      "cell_type": "code",
      "execution_count": null,
      "metadata": {
        "id": "_wVV0bmGTYKi"
      },
      "outputs": [],
      "source": [
        "import chess, chess.svg\n",
        "FEN = \"r6k/pp2r2p/4Rp1Q/3p4/8/1N1P2R1/PqP2bPP/7K b - - 0 24\"\n",
        "Moves = \"f2g3 e6e7 b2b1 b3c1 b1c1 h6c1\"\n",
        "Moves = Moves.split(\" \")"
      ]
    },
    {
      "cell_type": "code",
      "execution_count": null,
      "metadata": {
        "id": "Dw-ay6VWToNb"
      },
      "outputs": [],
      "source": [
        "# Load FEN position\n",
        "board = chess.Board(FEN)\n",
        "# Display board\n",
        "display(board)"
      ]
    },
    {
      "cell_type": "code",
      "execution_count": null,
      "metadata": {
        "id": "FxQcWV58T9vd"
      },
      "outputs": [],
      "source": [
        "# Make moves\n",
        "move_uci = Moves[0]\n",
        "move_san = board.san(chess.Move.from_uci(move_uci))\n",
        "\n",
        "# Make the move\n",
        "board.push(chess.Move.from_uci(move_uci))\n",
        "\n",
        "# Display\n",
        "print(\"Move in Universal Chess Interface (UCI): {}\".format(move_uci))\n",
        "print(\"Move in Standard Algebraic Notation (SAN): {}\".format(move_san))\n",
        "display(board)"
      ]
    },
    {
      "cell_type": "markdown",
      "metadata": {
        "id": "nGDByi8uZ8WI"
      },
      "source": [
        "### Exporting SVG image and convert it to PNG format"
      ]
    },
    {
      "cell_type": "code",
      "execution_count": null,
      "metadata": {
        "id": "mn99mEjIZ8pg"
      },
      "outputs": [],
      "source": [
        "from cairosvg import svg2png\n",
        "import chess.svg\n",
        "\n",
        "boardsvg = chess.svg.board(board=board)\n",
        "svg2png(bytestring=boardsvg,write_to='output.png')"
      ]
    },
    {
      "cell_type": "markdown",
      "metadata": {
        "id": "ywnINR247Rse"
      },
      "source": [
        "## Stockfish"
      ]
    },
    {
      "cell_type": "markdown",
      "metadata": {
        "id": "y-OL2zEQVYso"
      },
      "source": [
        "Stockfish is a chess engine used for evaluation positions and generating best moves. Read the python stockfish documentation here: https://pypi.org/project/stockfish/"
      ]
    },
    {
      "cell_type": "code",
      "execution_count": 4,
      "metadata": {
        "colab": {
          "base_uri": "https://localhost:8080/"
        },
        "id": "ACBTGG1a4glm",
        "outputId": "8f9f4a9c-bc59-42e1-b0f8-beadbc337e53"
      },
      "outputs": [
        {
          "name": "stdout",
          "output_type": "stream",
          "text": [
            "stockfish/\n",
            "stockfish/CITATION.cff\n",
            "stockfish/stockfish-ubuntu-x86-64-avx2\n",
            "stockfish/src/\n",
            "stockfish/src/benchmark.cpp\n",
            "stockfish/src/uci.cpp\n",
            "stockfish/src/types.h\n",
            "stockfish/src/position.cpp\n",
            "stockfish/src/position.h\n",
            "stockfish/src/tune.cpp\n",
            "stockfish/src/benchmark.h\n",
            "stockfish/src/search.cpp\n",
            "stockfish/src/endgame.cpp\n",
            "stockfish/src/thread.h\n",
            "stockfish/src/nnue/\n",
            "stockfish/src/nnue/evaluate_nnue.h\n",
            "stockfish/src/nnue/nnue_common.h\n",
            "stockfish/src/nnue/layers/\n",
            "stockfish/src/nnue/layers/clipped_relu.h\n",
            "stockfish/src/nnue/layers/simd.h\n",
            "stockfish/src/nnue/layers/affine_transform_sparse_input.h\n",
            "stockfish/src/nnue/layers/affine_transform.h\n",
            "stockfish/src/nnue/layers/sqr_clipped_relu.h\n",
            "stockfish/src/nnue/features/\n",
            "stockfish/src/nnue/features/half_ka_v2_hm.h\n",
            "stockfish/src/nnue/features/half_ka_v2_hm.cpp\n",
            "stockfish/src/nnue/nnue_architecture.h\n",
            "stockfish/src/nnue/evaluate_nnue.cpp\n",
            "stockfish/src/nnue/nnue_feature_transformer.h\n",
            "stockfish/src/nnue/nnue_accumulator.h\n",
            "stockfish/src/incbin/\n",
            "stockfish/src/incbin/incbin.h\n",
            "stockfish/src/incbin/UNLICENCE\n",
            "stockfish/src/syzygy/\n",
            "stockfish/src/syzygy/tbprobe.cpp\n",
            "stockfish/src/syzygy/tbprobe.h\n",
            "stockfish/src/uci.h\n",
            "stockfish/src/movegen.cpp\n",
            "stockfish/src/bitboard.cpp\n",
            "stockfish/src/bitbase.cpp\n",
            "stockfish/src/evaluate.cpp\n",
            "stockfish/src/pawns.h\n",
            "stockfish/src/thread_win32_osx.h\n",
            "stockfish/src/psqt.cpp\n",
            "stockfish/src/evaluate.h\n",
            "stockfish/src/bitboard.h\n",
            "stockfish/src/psqt.h\n",
            "stockfish/src/search.h\n",
            "stockfish/src/movepick.h\n",
            "stockfish/src/timeman.h\n",
            "stockfish/src/material.h\n",
            "stockfish/src/Makefile\n",
            "stockfish/src/misc.cpp\n",
            "stockfish/src/material.cpp\n",
            "stockfish/src/movepick.cpp\n",
            "stockfish/src/tt.h\n",
            "stockfish/src/endgame.h\n",
            "stockfish/src/misc.h\n",
            "stockfish/src/movegen.h\n",
            "stockfish/src/timeman.cpp\n",
            "stockfish/src/thread.cpp\n",
            "stockfish/src/tt.cpp\n",
            "stockfish/src/pawns.cpp\n",
            "stockfish/src/main.cpp\n",
            "stockfish/src/ucioption.cpp\n",
            "stockfish/src/tune.h\n",
            "stockfish/AUTHORS\n",
            "stockfish/wiki/\n",
            "stockfish/wiki/Download-and-usage.md\n",
            "stockfish/wiki/Stockfish-FAQ.md\n",
            "stockfish/wiki/Commands.md\n",
            "stockfish/wiki/Regression-Tests.md\n",
            "stockfish/wiki/Terminology.md\n",
            "stockfish/wiki/Advanced-topics.md\n",
            "stockfish/wiki/Home.md\n",
            "stockfish/wiki/Developers.md\n",
            "stockfish/wiki/Compiling-from-source.md\n",
            "stockfish/wiki/Useful-data.md\n",
            "stockfish/wiki/Governance-and-responsibilities.md\n",
            "stockfish/wiki/_Footer.md\n",
            "stockfish/Top CPU Contributors.txt\n",
            "stockfish/Copying.txt\n",
            "stockfish/README.md\n"
          ]
        }
      ],
      "source": [
        "import requests\n",
        "from stockfish import Stockfish\n",
        "\n",
        "# Download stockfish from github\n",
        "stockfishURL = \"https://github.com/official-stockfish/Stockfish/releases/download/sf_16/stockfish-ubuntu-x86-64-avx2.tar\"\n",
        "response = requests.get(stockfishURL)\n",
        "\n",
        "with open(\"stockfish.tar\", \"wb\") as f:\n",
        "    f.write(response.content)\n",
        "\n",
        "# Uncompress the tar file\n",
        "!tar -xvf stockfish.tar"
      ]
    },
    {
      "cell_type": "code",
      "execution_count": null,
      "metadata": {
        "id": "DepV44hV5tSR"
      },
      "outputs": [],
      "source": [
        "# Initialize stockfish from the downloaded path\n",
        "stockfish = Stockfish(path=\"/content/stockfish/stockfish-ubuntu-x86-64-avx2\")\n",
        "\n",
        "# Set stockfish configurations\n",
        "stockfish.set_depth(15)\n",
        "stockfish.set_elo_rating(2000)"
      ]
    },
    {
      "cell_type": "code",
      "execution_count": null,
      "metadata": {
        "colab": {
          "base_uri": "https://localhost:8080/"
        },
        "id": "v-u_iSFe9GTJ",
        "outputId": "293a465e-482b-4bed-bdc8-343448d775fe"
      },
      "outputs": [
        {
          "name": "stdout",
          "output_type": "stream",
          "text": [
            "[{'Move': 'b2b1', 'Centipawn': -441, 'Mate': None}, {'Move': 'f2e3', 'Centipawn': -208, 'Mate': None}, {'Move': 'e7f7', 'Centipawn': -17, 'Mate': None}, {'Move': 'e7c7', 'Centipawn': 27, 'Mate': None}, {'Move': 'e7d7', 'Centipawn': 121, 'Mate': None}, {'Move': 'f2g3', 'Centipawn': 606, 'Mate': None}, {'Move': 'f2c5', 'Centipawn': 659, 'Mate': None}, {'Move': 'a8g8', 'Centipawn': 943, 'Mate': None}, {'Move': 'b2c1', 'Centipawn': None, 'Mate': 8}, {'Move': 'a7a5', 'Centipawn': None, 'Mate': 8}]\n"
          ]
        }
      ],
      "source": [
        "FEN = \"r6k/pp2r2p/4Rp1Q/3p4/8/1N1P2R1/PqP2bPP/7K b - - 0 24\"\n",
        "# Set to starting position\n",
        "stockfish.set_fen_position(FEN)\n",
        "\n",
        "# Instruct stockfish to generate k top moves\n",
        "k = 10\n",
        "top_moves = stockfish.get_top_moves(k)\n",
        "print(top_moves)"
      ]
    },
    {
      "cell_type": "code",
      "execution_count": null,
      "metadata": {
        "colab": {
          "base_uri": "https://localhost:8080/"
        },
        "id": "Do0NdEEpc154",
        "outputId": "917946e6-b28b-4412-ae5e-474872ddd6ed"
      },
      "outputs": [
        {
          "name": "stdout",
          "output_type": "stream",
          "text": [
            "b2b1\n"
          ]
        }
      ],
      "source": [
        "best_move = top_moves[0][\"Move\"]\n",
        "print(best_move)"
      ]
    },
    {
      "cell_type": "markdown",
      "metadata": {
        "id": "LvElhJp9dGYS"
      },
      "source": [
        "## Lichess puzzle dataset"
      ]
    },
    {
      "cell_type": "markdown",
      "metadata": {
        "id": "fUiWp9mWdRkS"
      },
      "source": [
        "Lichess provides an open database with chess puzzles here: https://database.lichess.org/?ref=propelauth.com#puzzles . For the telegram bot, we download and filter the puzzles we want."
      ]
    },
    {
      "cell_type": "code",
      "execution_count": 5,
      "metadata": {
        "id": "vc3-2JV8dFti"
      },
      "outputs": [],
      "source": [
        "import requests, zstandard\n",
        "import pandas as pd\n",
        "\n",
        "# Download zst file\n",
        "puzzleURL = \"https://database.lichess.org/lichess_db_puzzle.csv.zst\"\n",
        "response = requests.get(puzzleURL)\n",
        "\n",
        "with open(\"lichess_db_puzzle.csv.zst\", \"wb\") as f:\n",
        "    f.write(response.content)\n",
        "\n",
        "\n",
        "# Uncompress zst file\n",
        "with open(\"lichess_db_puzzle.csv.zst\", \"rb\") as f:\n",
        "    decomp = zstandard.ZstdDecompressor()\n",
        "    with open(\"lichess_db_puzzle.csv\", 'wb') as destination:\n",
        "        decomp.copy_stream(f, destination)"
      ]
    },
    {
      "cell_type": "code",
      "execution_count": 6,
      "metadata": {
        "colab": {
          "base_uri": "https://localhost:8080/",
          "height": 573
        },
        "id": "2dum69PDfwQi",
        "outputId": "261b0586-816f-45aa-c998-23241d84dae3"
      },
      "outputs": [
        {
          "name": "stdout",
          "output_type": "stream",
          "text": [
            "(3466049, 10)\n"
          ]
        },
        {
          "data": {
            "text/html": [
              "<div>\n",
              "<style scoped>\n",
              "    .dataframe tbody tr th:only-of-type {\n",
              "        vertical-align: middle;\n",
              "    }\n",
              "\n",
              "    .dataframe tbody tr th {\n",
              "        vertical-align: top;\n",
              "    }\n",
              "\n",
              "    .dataframe thead th {\n",
              "        text-align: right;\n",
              "    }\n",
              "</style>\n",
              "<table border=\"1\" class=\"dataframe\">\n",
              "  <thead>\n",
              "    <tr style=\"text-align: right;\">\n",
              "      <th></th>\n",
              "      <th>PuzzleId</th>\n",
              "      <th>FEN</th>\n",
              "      <th>Moves</th>\n",
              "      <th>Rating</th>\n",
              "      <th>RatingDeviation</th>\n",
              "      <th>Popularity</th>\n",
              "      <th>NbPlays</th>\n",
              "      <th>Themes</th>\n",
              "      <th>GameUrl</th>\n",
              "      <th>OpeningTags</th>\n",
              "    </tr>\n",
              "  </thead>\n",
              "  <tbody>\n",
              "    <tr>\n",
              "      <th>0</th>\n",
              "      <td>00008</td>\n",
              "      <td>r6k/pp2r2p/4Rp1Q/3p4/8/1N1P2R1/PqP2bPP/7K b - ...</td>\n",
              "      <td>f2g3 e6e7 b2b1 b3c1 b1c1 h6c1</td>\n",
              "      <td>1758</td>\n",
              "      <td>75</td>\n",
              "      <td>94</td>\n",
              "      <td>4412</td>\n",
              "      <td>crushing hangingPiece long middlegame</td>\n",
              "      <td>https://lichess.org/787zsVup/black#48</td>\n",
              "      <td>NaN</td>\n",
              "    </tr>\n",
              "    <tr>\n",
              "      <th>1</th>\n",
              "      <td>0000D</td>\n",
              "      <td>5rk1/1p3ppp/pq3b2/8/8/1P1Q1N2/P4PPP/3R2K1 w - ...</td>\n",
              "      <td>d3d6 f8d8 d6d8 f6d8</td>\n",
              "      <td>1511</td>\n",
              "      <td>74</td>\n",
              "      <td>96</td>\n",
              "      <td>23054</td>\n",
              "      <td>advantage endgame short</td>\n",
              "      <td>https://lichess.org/F8M8OS71#53</td>\n",
              "      <td>NaN</td>\n",
              "    </tr>\n",
              "    <tr>\n",
              "      <th>2</th>\n",
              "      <td>0008Q</td>\n",
              "      <td>8/4R3/1p2P3/p4r2/P6p/1P3Pk1/4K3/8 w - - 1 64</td>\n",
              "      <td>e7f7 f5e5 e2f1 e5e6</td>\n",
              "      <td>1292</td>\n",
              "      <td>75</td>\n",
              "      <td>100</td>\n",
              "      <td>116</td>\n",
              "      <td>advantage endgame rookEndgame short</td>\n",
              "      <td>https://lichess.org/MQSyb3KW#127</td>\n",
              "      <td>NaN</td>\n",
              "    </tr>\n",
              "    <tr>\n",
              "      <th>3</th>\n",
              "      <td>0009B</td>\n",
              "      <td>r2qr1k1/b1p2ppp/pp4n1/P1P1p3/4P1n1/B2P2Pb/3NBP...</td>\n",
              "      <td>b6c5 e2g4 h3g4 d1g4</td>\n",
              "      <td>1088</td>\n",
              "      <td>74</td>\n",
              "      <td>86</td>\n",
              "      <td>547</td>\n",
              "      <td>advantage middlegame short</td>\n",
              "      <td>https://lichess.org/4MWQCxQ6/black#32</td>\n",
              "      <td>Kings_Pawn_Game Kings_Pawn_Game_Leonardis_Vari...</td>\n",
              "    </tr>\n",
              "    <tr>\n",
              "      <th>4</th>\n",
              "      <td>000Vc</td>\n",
              "      <td>8/8/4k1p1/2KpP2p/5PP1/8/8/8 w - - 0 53</td>\n",
              "      <td>g4h5 g6h5 f4f5 e6e5 f5f6 e5f6</td>\n",
              "      <td>1556</td>\n",
              "      <td>81</td>\n",
              "      <td>89</td>\n",
              "      <td>81</td>\n",
              "      <td>crushing endgame long pawnEndgame</td>\n",
              "      <td>https://lichess.org/l6AejDMO#105</td>\n",
              "      <td>NaN</td>\n",
              "    </tr>\n",
              "  </tbody>\n",
              "</table>\n",
              "</div>"
            ],
            "text/plain": [
              "  PuzzleId                                                FEN  \\\n",
              "0    00008  r6k/pp2r2p/4Rp1Q/3p4/8/1N1P2R1/PqP2bPP/7K b - ...   \n",
              "1    0000D  5rk1/1p3ppp/pq3b2/8/8/1P1Q1N2/P4PPP/3R2K1 w - ...   \n",
              "2    0008Q       8/4R3/1p2P3/p4r2/P6p/1P3Pk1/4K3/8 w - - 1 64   \n",
              "3    0009B  r2qr1k1/b1p2ppp/pp4n1/P1P1p3/4P1n1/B2P2Pb/3NBP...   \n",
              "4    000Vc             8/8/4k1p1/2KpP2p/5PP1/8/8/8 w - - 0 53   \n",
              "\n",
              "                           Moves  Rating  RatingDeviation  Popularity  \\\n",
              "0  f2g3 e6e7 b2b1 b3c1 b1c1 h6c1    1758               75          94   \n",
              "1            d3d6 f8d8 d6d8 f6d8    1511               74          96   \n",
              "2            e7f7 f5e5 e2f1 e5e6    1292               75         100   \n",
              "3            b6c5 e2g4 h3g4 d1g4    1088               74          86   \n",
              "4  g4h5 g6h5 f4f5 e6e5 f5f6 e5f6    1556               81          89   \n",
              "\n",
              "   NbPlays                                 Themes  \\\n",
              "0     4412  crushing hangingPiece long middlegame   \n",
              "1    23054                advantage endgame short   \n",
              "2      116    advantage endgame rookEndgame short   \n",
              "3      547             advantage middlegame short   \n",
              "4       81      crushing endgame long pawnEndgame   \n",
              "\n",
              "                                 GameUrl  \\\n",
              "0  https://lichess.org/787zsVup/black#48   \n",
              "1        https://lichess.org/F8M8OS71#53   \n",
              "2       https://lichess.org/MQSyb3KW#127   \n",
              "3  https://lichess.org/4MWQCxQ6/black#32   \n",
              "4       https://lichess.org/l6AejDMO#105   \n",
              "\n",
              "                                         OpeningTags  \n",
              "0                                                NaN  \n",
              "1                                                NaN  \n",
              "2                                                NaN  \n",
              "3  Kings_Pawn_Game Kings_Pawn_Game_Leonardis_Vari...  \n",
              "4                                                NaN  "
            ]
          },
          "execution_count": 6,
          "metadata": {},
          "output_type": "execute_result"
        }
      ],
      "source": [
        "df = pd.read_csv(\"lichess_db_puzzle.csv\")\n",
        "print(df.shape)\n",
        "df.head()"
      ]
    },
    {
      "cell_type": "markdown",
      "metadata": {
        "id": "ulRcOFhhhiCB"
      },
      "source": [
        "File size is too large for PythonAnywhere server, remove rows/columns to reduce < 100 mb"
      ]
    },
    {
      "cell_type": "code",
      "execution_count": 7,
      "metadata": {
        "id": "Yhbjv68Ug6Wh"
      },
      "outputs": [],
      "source": [
        "df2 = df[df[\"Themes\"].str.contains(\"short\")]\n",
        "df2 = df2[df2[\"Rating\"] > 1350]\n",
        "\n",
        "# Grab the first 1 million rows\n",
        "df2 = df2.iloc[:1000000]\n",
        "\n",
        "# Keep only FEN, moves and rating rows\n",
        "df2 = df2[[\"FEN\",\"Moves\",\"Rating\"]]\n",
        "df2.head()\n",
        "\n",
        "# Write cleaned csv file\n",
        "df2.to_csv(\"chess_puzzles.csv\")"
      ]
    },
    {
      "cell_type": "code",
      "execution_count": 50,
      "metadata": {
        "colab": {
          "base_uri": "https://localhost:8080/"
        },
        "id": "ZcxWonh3_CfV",
        "outputId": "b53fa634-87e1-48e6-89a7-0f92d332d8f1"
      },
      "outputs": [
        {
          "data": {
            "text/plain": [
              "1351"
            ]
          },
          "execution_count": 50,
          "metadata": {},
          "output_type": "execute_result"
        }
      ],
      "source": [
        "import pandas as pd\n",
        "rating = 1500\n",
        "rating_upper = rating+50\n",
        "rating_lower = rating-50\n",
        "filtered_df = df[(df.Rating>=rating_lower) & (df.Rating<=rating_upper)]\n",
        "row = df.sample()\n",
        "df.max()[\"Rating\"]\n",
        "df.min()[\"Rating\"]"
      ]
    },
    {
      "cell_type": "markdown",
      "metadata": {
        "id": "pAZMa4zr7O0X"
      },
      "source": [
        "# Telegram Bot"
      ]
    },
    {
      "cell_type": "markdown",
      "metadata": {
        "id": "w_eJXpJbiXqx"
      },
      "source": [
        "For the telegram API, we use the python-telegram-bot **v13 (not v20)** library. Read the documentation here: https://github.com/python-telegram-bot/python-telegram-bot/blob/v13.x . Run the cells below and the bot should work (@NTU_chess_test_bot)"
      ]
    },
    {
      "cell_type": "markdown",
      "metadata": {
        "id": "Xv7ebtjBiQEw"
      },
      "source": [
        "## Chess & Utility functions"
      ]
    },
    {
      "cell_type": "markdown",
      "metadata": {
        "id": "O33FvO2NiUnp"
      },
      "source": [
        "## Telegram functions"
      ]
    },
    {
      "cell_type": "code",
      "execution_count": 12,
      "metadata": {
        "colab": {
          "base_uri": "https://localhost:8080/"
        },
        "id": "EeQIE4SFTQB1",
        "outputId": "d7aaf624-0199-48ae-b22d-438ad7b601ee"
      },
      "outputs": [
        {
          "name": "stderr",
          "output_type": "stream",
          "text": [
            "2023-09-22 03:09:07,995 - apscheduler.scheduler - INFO - Scheduler started\n",
            "2023-09-22 03:09:09,981 - root - INFO - Chessbot initialized.\n",
            "2023-09-22 03:10:54,511 - telegram.ext.updater - INFO - Received signal 2 (SIGINT), stopping...\n",
            "2023-09-22 03:10:54,512 - apscheduler.scheduler - INFO - Scheduler has been shut down\n",
            "2023-09-22 03:10:58,463 - root - WARNING - Ending chessbot process.\n"
          ]
        }
      ],
      "source": [
        "import chess, chess.svg, random, datetime, logging\n",
        "from stockfish import Stockfish\n",
        "from cairosvg import svg2png\n",
        "import pandas as pd\n",
        "from telegram import (\n",
        "    Poll,\n",
        "    KeyboardButton,\n",
        "    KeyboardButtonPollType,\n",
        "    ReplyKeyboardMarkup,\n",
        "    ReplyKeyboardRemove,\n",
        "    Update,\n",
        "    InlineKeyboardButton,\n",
        "    InlineKeyboardMarkup,\n",
        ")\n",
        "from telegram.ext import (\n",
        "    Updater,\n",
        "    CommandHandler,\n",
        "    PollAnswerHandler,\n",
        "    PollHandler,\n",
        "    MessageHandler,\n",
        "    CallbackContext,\n",
        "    CallbackQueryHandler,\n",
        ")\n",
        "\n",
        "logging.basicConfig(\n",
        "    format=\"%(asctime)s - %(name)s - %(levelname)s - %(message)s\", level=logging.INFO\n",
        ")\n",
        "logging.getLogger().setLevel(logging.INFO)\n",
        "\n",
        "# ---------------------------------------------------------------------------------------------------------------------------------------------#\n",
        "\n",
        "class ChessHandler:\n",
        "    def __init__(self, stockfish_path, puzzle_path):\n",
        "      self.user_stockfish = Stockfish(path=stockfish_path)\n",
        "      self.user_stockfish.set_depth(10)\n",
        "      self.user_stockfish.set_elo_rating(2000)\n",
        "\n",
        "      self.cpu_stockfish = Stockfish(path=stockfish_path)\n",
        "      self.cpu_stockfish.set_depth(7)\n",
        "      self.cpu_stockfish.set_elo_rating(1300)\n",
        "\n",
        "      self.puzzle_path = puzzle_path\n",
        "      self.puzzle_db = pd.read_csv(puzzle_path)\n",
        "\n",
        "\n",
        "    def get_puzzle(self, rating=None):\n",
        "        if rating:\n",
        "          rating_lower = max(rating - 50, self.puzzle_db.min()[\"Rating\"])\n",
        "          rating_upper = min(rating + 50, self.puzzle_db.max()[\"Rating\"])\n",
        "          row = self.puzzle_db[(self.puzzle_db.Rating>=rating_lower) & (self.puzzle_db.Rating<=rating_upper)].sample()\n",
        "        else:\n",
        "          row = self.puzzle_db.sample()\n",
        "        FEN = row[\"FEN\"].values[0]\n",
        "        moves = row[\"Moves\"].values[0]\n",
        "        rating = row[\"Rating\"].values[0]\n",
        "        solution_line = moves.split(\" \")\n",
        "        first_move = solution_line.pop(0)\n",
        "        board = chess.Board(FEN)\n",
        "        move = chess.Move.from_uci(first_move)\n",
        "        board.push(move)\n",
        "        return board, solution_line, rating\n",
        "\n",
        "\n",
        "    def get_mcq_choices(self, board, solution_san=None, choices_count=4, top_moves_count=7):\n",
        "        FEN = board.fen()\n",
        "        self.user_stockfish.set_fen_position(FEN)\n",
        "        top_moves = self.user_stockfish.get_top_moves(top_moves_count)\n",
        "        if len(top_moves) == 0:\n",
        "          return [\"Error\", \"No legal moves found\", 0]\n",
        "        choices = [ChessHandler.uci_to_san(board, top_moves[i][\"Move\"]) for i, _ in enumerate(top_moves)]\n",
        "\n",
        "        if not solution_san:\n",
        "          solution_san = choices[0]\n",
        "        if choices_count < len(choices):\n",
        "          choices = random.sample(choices, choices_count)\n",
        "\n",
        "        if solution_san in choices:\n",
        "          choices.remove(solution_san)\n",
        "        else:\n",
        "          choices.pop()\n",
        "        solution_ind = random.randint(0,len(choices))\n",
        "        choices.insert(solution_ind, solution_san)\n",
        "        if len(choices) == 1:\n",
        "          choices = choices * 2\n",
        "\n",
        "\n",
        "\n",
        "        return choices, solution_ind\n",
        "\n",
        "\n",
        "    def cpu_move(self, board):\n",
        "\n",
        "        FEN = board.fen()\n",
        "        self.cpu_stockfish.set_fen_position(FEN)\n",
        "        cpu_move = self.cpu_stockfish.get_best_move()\n",
        "        move = chess.Move.from_uci(cpu_move)\n",
        "        board.push(move)\n",
        "\n",
        "        return board\n",
        "\n",
        "\n",
        "    def generate_puzzle(self, rating=None):\n",
        "        board, solution_line, rating = self.get_puzzle(rating)\n",
        "        board_img = ChessHandler.get_board_img(board)\n",
        "\n",
        "        solution_uci = solution_line[0]\n",
        "        solution_san = ChessHandler.uci_to_san(board, solution_uci)\n",
        "\n",
        "        choices, solution_ind = self.get_mcq_choices(board, solution_san)\n",
        "\n",
        "        turn = \"White\" if board.turn else \"Black\"\n",
        "        prompt = f\"\\U0001F9E9 Chess Puzzle \\U0001F9E9\\n{turn} to move.\"\n",
        "        explanation = \"Solution line (in UCI): \" + \", \".join(solution_line) + \"\\n Rating: {}\".format(rating)\n",
        "        return board_img, choices, solution_ind, prompt, explanation\n",
        "\n",
        "\n",
        "    def new_votechess(self):\n",
        "        board = chess.Board()\n",
        "        # Randomize starting player\n",
        "        if random.choice([True, False]):\n",
        "          board = self.cpu_move(board)\n",
        "\n",
        "        board_img = ChessHandler.get_board_img(board)\n",
        "\n",
        "        turn = \"White\" if board.turn else \"Black\"\n",
        "        prompt = f\"{turn} to move\"\n",
        "        choices, solution_ind = self.get_mcq_choices(board, choices_count=5, top_moves_count=8)\n",
        "        prompt = \"\\U0001F4CA Vote Chess \\U0001F4CA\\n\" + prompt\n",
        "        return board_img, choices, solution_ind, prompt, board\n",
        "\n",
        "\n",
        "    def generate_votechess(self, board, move=None):\n",
        "        player_turn = board.turn\n",
        "        if move:\n",
        "          board.push_san(move) # move must be in san format\n",
        "          outcome = board.outcome()\n",
        "          if not outcome:\n",
        "            board = self.cpu_move(board)\n",
        "\n",
        "        outcome = board.outcome()\n",
        "        # Case: Game has ended\n",
        "        if outcome:\n",
        "          winner = outcome.winner\n",
        "          reason = chess.Termination(outcome.termination).name.lower()\n",
        "          score = outcome.result()\n",
        "          if winner is None:\n",
        "            result = \"drew\"\n",
        "            text = \"That was close!\"\n",
        "          elif winner == player_turn:\n",
        "            result = \"won\"\n",
        "            text = \"Congratulations!\"\n",
        "          else:\n",
        "            result = \"lost\"\n",
        "            text = \"*Insert generic consolation text here*\"\n",
        "          prompt = f\"The game has ended! You {result} {score} by {reason}. {text}\\nUse /votechess to start a new game.\"\n",
        "          choices, solution_ind = [], -1\n",
        "\n",
        "        # Case: Game has not ended\n",
        "        else:\n",
        "          turn = \"White\" if board.turn else \"Black\"\n",
        "          prompt = f\"{turn} to move\"\n",
        "          choices, solution_ind = self.get_mcq_choices(board, choices_count=random.randint(3,4), top_moves_count=5)\n",
        "\n",
        "\n",
        "        prompt = \"\\U0001F4CA Vote Chess \\U0001F4CA\\n\" + prompt\n",
        "        board_img = ChessHandler.get_board_img(board)\n",
        "        return board_img, choices, solution_ind, prompt, board\n",
        "\n",
        "\n",
        "    # Static functions\n",
        "    def uci_to_san(board, uci:str):\n",
        "        move = chess.Move.from_uci(uci)\n",
        "        san = board.san(move)\n",
        "        return san\n",
        "\n",
        "    def get_board_img(board: chess.Board):\n",
        "        try:\n",
        "          last_move = board.peek()\n",
        "        except:\n",
        "          last_move = None\n",
        "        boardsvg = chess.svg.board(board=board,flipped = not board.turn, lastmove = last_move)\n",
        "        svg2png(bytestring=boardsvg,write_to='board.png')\n",
        "        board_img = open(\"board.png\", \"rb\")\n",
        "        return board_img\n",
        "\n",
        "\n",
        "# ---------------------------------------------------------------------------------------------------------------------------------------------#\n",
        "\n",
        "\n",
        "# Telegram utility functions\n",
        "\n",
        "def is_queued(job_queue, job_name):\n",
        "    if len(job_queue.get_jobs_by_name(job_name)) == 0:\n",
        "      return False\n",
        "    else:\n",
        "      return True\n",
        "\n",
        "def remove_queued(job_queue, job_name):\n",
        "    for job in job_queue.get_jobs_by_name(job_name):\n",
        "        job.schedule_removal()\n",
        "\n",
        "\n",
        "# Telegram command handlers\n",
        "def start(update: Update, context: CallbackContext) -> None:\n",
        "    \"\"\"Inform user about what this bot can do\"\"\"\n",
        "    text = \"\"\"\n",
        "Beep boop! Welcome to the Chessbot-3000. This bot lets you discover your inner chess with your friends!\n",
        "\n",
        "Utility\n",
        "/start - Displays the commands available\n",
        "\n",
        "\n",
        "\\U0001F9E9 Chess Puzzles \\U0001F9E9\n",
        "Challenge puzzles from the Lichess puzzle database!\n",
        "/puzzle - Sends a puzzle\n",
        "/schedule_dailypuzzle HHMM - Schedules a puzzle to be sent everyday (UTC)\n",
        "/stop_dailypuzzle - Clears all daily puzzle schedules\n",
        "\n",
        "\n",
        "\\U0001F4CA Vote Chess \\U0001F4CA\n",
        "Team up with your friends to win Stockfish!\n",
        "/votechess - Ends the current vote and initiates the next turn\n",
        "/schedule_votechess HHMM - Schedules a vote chess to be sent everyday (UTC)\n",
        "/stop_votechess - Clears all vote chess schedules\n",
        "    \"\"\"\n",
        "    reply_keyboard = [[\"/puzzle\", \"/votechess\"]]\n",
        "    reply_markup = ReplyKeyboardMarkup(\n",
        "            reply_keyboard, one_time_keyboard=True, input_field_placeholder=\"Select command to start.\"\n",
        "        )\n",
        "    context.bot.send_message(chat_id=update.effective_chat.id, text=text, reply_markup=reply_markup)\n",
        "\n",
        "\n",
        "def schedule_daily_puzzle(update: Update, context: CallbackContext) -> None:\n",
        "    chat_id = update.effective_chat.id\n",
        "    job_name = \"daily_puzzle_\" + str(chat_id)\n",
        "\n",
        "    if context.args and context.args[0].isdigit():\n",
        "            time_str = context.args[0]\n",
        "    else:\n",
        "        time_str = \"1400\" # 2pm UTC -> 10pm SGT\n",
        "    hour = int(time_str[:2])\n",
        "    minute = int(time_str[2:])\n",
        "    time = datetime.time(hour=hour, minute=minute, second=random.randint(30,59))\n",
        "\n",
        "    context.job_queue.run_daily(send_puzzle, time=time, context=chat_id, name=job_name)\n",
        "    context.bot.send_message(chat_id=chat_id, text=f\"Scheduling daily puzzle at {time_str}H (UTC) everyday.\")\n",
        "\n",
        "\n",
        "def stop_daily_puzzle(update: Update, context: CallbackContext) -> None:\n",
        "    chat_id = update.effective_chat.id\n",
        "    job_name = \"daily_puzzle_\" + str(chat_id)\n",
        "\n",
        "    remove_queued(context.job_queue, job_name)\n",
        "    context.bot.send_message(chat_id=update.effective_chat.id, text=\"Daily puzzle schedule has been cleared!\")\n",
        "\n",
        "\n",
        "def puzzle(update: Update, context: CallbackContext) -> None:\n",
        "    context.job_queue.run_once(send_puzzle, 0.1, context=update.message.chat_id)\n",
        "\n",
        "\n",
        "def send_puzzle(context: CallbackContext) -> None:\n",
        "    chat_id = context.job.context\n",
        "    board_img, choices, solution_ind, prompt, explanation = chess_handler.generate_puzzle()\n",
        "\n",
        "    context.bot.send_photo(photo=board_img,chat_id=chat_id)\n",
        "\n",
        "    message = context.bot.send_poll(\n",
        "        question = prompt, options = choices, correct_option_id=solution_ind,\n",
        "        type=Poll.QUIZ, allows_multiple_answers = False, explanation=explanation,\n",
        "        chat_id=chat_id, is_anonymous = False\n",
        "    )\n",
        "\n",
        "\n",
        "def schedule_vote_chess(update: Update, context: CallbackContext) -> None:\n",
        "    chat_id = update.effective_chat.id\n",
        "    job_name = \"vote_chess_\" + str(chat_id)\n",
        "\n",
        "    if context.args and context.args[0].isdigit():\n",
        "        time_str = context.args[0]\n",
        "    else:\n",
        "        time_str = \"0200\" # 2am UTC -> 10am SGT\n",
        "    hour = int(time_str[:2])\n",
        "    minute = int(time_str[2:])\n",
        "    time = datetime.time(hour=hour, minute=minute, second=random.randint(0,29))\n",
        "\n",
        "    context.job_queue.run_daily(send_vote_chess, time=time, context=update.message.chat_id, name=job_name)\n",
        "    context.bot.send_message(chat_id=update.effective_chat.id, text=f\"Scheduling vote chess at {time_str}H (UTC) everyday.\")\n",
        "\n",
        "\n",
        "def stop_vote_chess(update: Update, context: CallbackContext):\n",
        "    chat_id = update.effective_chat.id\n",
        "    job_name = \"vote_chess_\" + str(chat_id)\n",
        "    remove_queued(context.job_queue, job_name)\n",
        "    vc_data = context.bot_data.get(\"vote_chess\")\n",
        "    if vc_data and vc_data.get(chat_id):\n",
        "      vc_data.pop(chat_id)\n",
        "    context.bot.send_message(chat_id=update.effective_chat.id, text=\"Vote chess schedule has been cleared!\")\n",
        "\n",
        "\n",
        "def vote_chess(update: Update, context: CallbackContext):\n",
        "    chat_id = update.effective_chat.id\n",
        "    context.job_queue.run_once(send_vote_chess, 0.1, context=chat_id)\n",
        "\n",
        "\n",
        "def send_vote_chess(context: CallbackContext) -> None:\n",
        "    chat_id = context.job.context\n",
        "    job_name = \"vote_chess_\" + str(chat_id)\n",
        "    vc_data = context.bot_data.get(\"vote_chess\")\n",
        "    if not vc_data: vc_data = {}\n",
        "\n",
        "    chat_data = vc_data.get(chat_id)\n",
        "    # Case: Game has not been initialized\n",
        "    if not chat_data:\n",
        "        board_img, choices, solution_ind, prompt, board = chess_handler.new_votechess()\n",
        "\n",
        "    # Case: Game has been initialized\n",
        "    else:\n",
        "      board = chat_data.get(\"board\")\n",
        "      # Get the most voted move\n",
        "      moves = chat_data.get(\"player_moves\")\n",
        "      choices = []\n",
        "      for player_choice in moves.values():\n",
        "        choices.extend(player_choice)\n",
        "\n",
        "      # Case: Nobody voted -> generate poll from the same position\n",
        "      if len(choices) == 0:\n",
        "        board_img, choices, solution_ind, prompt, board = chess_handler.generate_votechess(board, None)\n",
        "      # Case: Top move exists\n",
        "      else:\n",
        "        top_choice = max(set(choices), key = choices.count) # If tie, selects first index\n",
        "        top_move = chat_data.get(\"move_choices\")[top_choice]\n",
        "        board_img, choices, solution_ind, prompt, board = chess_handler.generate_votechess(board, top_move)\n",
        "\n",
        "    context.bot.send_photo(photo=board_img,chat_id=chat_id)\n",
        "    cleaned_choices = [choice.replace(\"#\", \"+\") for choice in choices]\n",
        "    # Case: Game has not ended\n",
        "    if solution_ind >= 0:\n",
        "      message = context.bot.send_poll(\n",
        "          question = prompt, options = cleaned_choices, chat_id=chat_id, is_anonymous = False\n",
        "      )\n",
        "\n",
        "      data = {\n",
        "          chat_id: {\n",
        "              \"board\": board,\n",
        "              \"current_poll_id\": message.poll.id,\n",
        "              \"move_choices\": choices,\n",
        "              \"player_moves\": {}\n",
        "          }\n",
        "      }\n",
        "      vc_data.update(data)\n",
        "\n",
        "    # Case: Game has ended\n",
        "    else:\n",
        "      context.bot.send_message(chat_id=chat_id, text=prompt)\n",
        "      vc_data.pop(chat_id)\n",
        "\n",
        "    context.bot_data.update({\"vote_chess\": vc_data})\n",
        "\n",
        "\n",
        "\n",
        "\n",
        "\n",
        "def receive_poll_answer(update: Update, context: CallbackContext) -> None:\n",
        "\n",
        "    answer = update.poll_answer\n",
        "    poll_id = answer.poll_id\n",
        "    user_id = answer[\"user\"]['id']\n",
        "    option_ids = answer[\"option_ids\"]\n",
        "\n",
        "    vc_data = context.bot_data.get(\"vote_chess\")\n",
        "    if vc_data:\n",
        "      for chat_id in vc_data.keys():\n",
        "        chat_data = vc_data.get(chat_id)\n",
        "        current_poll_id = chat_data[\"current_poll_id\"]\n",
        "\n",
        "        if poll_id == current_poll_id:\n",
        "          chat_data[\"player_moves\"][user_id] = option_ids\n",
        "\n",
        "          break\n",
        "    #print(context.bot_data)\n",
        "\n",
        "\n",
        "def view(update: Update, context: CallbackContext) -> None:\n",
        "    data = context.bot_data.get(\"vote_chess\")\n",
        "    print(context.bot_data)\n",
        "    print(context.bot_data.get(\"Random\"))\n",
        "    payload = {\"vote_chess\": data}\n",
        "    context.bot_data.update(payload)\n",
        "\n",
        "\n",
        "def test(update: Update, context: CallbackContext):\n",
        "    print(context.args)\n",
        "\n",
        "\n",
        "\n",
        "\n",
        "\n",
        "\n",
        "def main() -> None:\n",
        "    \"\"\"Run bot.\"\"\"\n",
        "    # Create the Updater and pass it your bot's token.\n",
        "    updater = Updater(TOKEN)\n",
        "    dp = updater.dispatcher\n",
        "\n",
        "    # add handlers\n",
        "    dp.add_handler(CommandHandler('start', start))\n",
        "\n",
        "    dp.add_handler(PollAnswerHandler(receive_poll_answer))\n",
        "\n",
        "    dp.add_handler(CommandHandler('puzzle', puzzle))\n",
        "    dp.add_handler(CommandHandler('schedule_dailypuzzle', schedule_daily_puzzle))\n",
        "    dp.add_handler(CommandHandler('stop_dailypuzzle', stop_daily_puzzle))\n",
        "\n",
        "    dp.add_handler(CommandHandler('votechess', vote_chess))\n",
        "    dp.add_handler(CommandHandler('schedule_votechess', schedule_vote_chess))\n",
        "    dp.add_handler(CommandHandler('stop_votechess', stop_vote_chess))\n",
        "\n",
        "    dp.add_handler(CommandHandler('test', test))\n",
        "\n",
        "    # Start the Bot\n",
        "    updater.start_polling()\n",
        "    logging.info(\"Chessbot initialized.\")\n",
        "\n",
        "    # Run the bot until the user presses Ctrl-C or the process receives SIGINT,\n",
        "    # SIGTERM or SIGABRT\n",
        "\n",
        "    updater.idle()\n",
        "    logging.warning(\"Ending chessbot process.\")\n",
        "\n",
        "TOKEN = \"6608467118:AAEyltpXJbkFTbn88XePgWEZOhrm7KcaGwU\"\n",
        "stockfish_path = \"./stockfish/stockfish-ubuntu-x86-64-avx2\"\n",
        "puzzle_path = \"./chess_puzzles.csv\"\n",
        "chess_handler = ChessHandler(stockfish_path, puzzle_path)\n",
        "\n",
        "main()"
      ]
    },
    {
      "cell_type": "code",
      "execution_count": 10,
      "metadata": {},
      "outputs": [
        {
          "data": {
            "text/plain": [
              "'/workspaces/codespaces-jupyter'"
            ]
          },
          "execution_count": 10,
          "metadata": {},
          "output_type": "execute_result"
        }
      ],
      "source": [
        "import os\n",
        "os.getcwd()"
      ]
    },
    {
      "cell_type": "markdown",
      "metadata": {
        "id": "8Jy4Auwhj2qB"
      },
      "source": [
        "### Misc"
      ]
    },
    {
      "cell_type": "code",
      "execution_count": null,
      "metadata": {
        "id": "mQJSybfXaqSQ"
      },
      "outputs": [],
      "source": [
        "import random\n",
        "stockfish = Stockfish(path=\"/content/stockfish/stockfish-ubuntu-x86-64-avx2\")\n",
        "# Set stockfish configurations\n",
        "stockfish.set_depth(10)\n",
        "stockfish.set_elo_rating(2000)\n",
        "board = chess.Board(\"r6k/pp2r2p/4Rp1Q/3p4/8/1N1P2R1/PqP2bPP/7K b - - 0 24\")\n",
        "# Instruct stockfish to generate k top moves\n",
        "solution_uci = \"b2b1\"\n",
        "solution_san = uci_to_san(board, solution_uci)\n",
        "\n",
        "\n",
        "FEN = board.board_fen()\n",
        "stockfish.set_fen_position(FEN)\n",
        "quiz_answers_count = 4\n",
        "top_moves = stockfish.get_top_moves(7)\n",
        "answers = [uci_to_san(board, top_moves[i][\"Move\"]) for i, _ in enumerate(top_moves)]\n",
        "answers = random.sample(answers, quiz_answers_count)\n",
        "if solution_san in answers:\n",
        "  answers.remove(solution_san)\n",
        "else:\n",
        "  answers.pop()\n",
        "solution_ind = random.randint(0,quiz_answers_count)\n",
        "answers.insert(solution_ind, solution_san)\n",
        "display(board)\n",
        "print(answers, solution_san)"
      ]
    },
    {
      "cell_type": "code",
      "execution_count": null,
      "metadata": {
        "id": "8iNncR7Qp_wz"
      },
      "outputs": [],
      "source": [
        "def generate_inline_chessboard(board):\n",
        "    files = [\"a\", \"b\", \"c\", \"d\", \"e\", \"f\", \"g\", \"h\"]\n",
        "    ranks = [str(i) for i in range(8,0,-1)]\n",
        "    indices = ['♚','♛','♜','♝','♞','♟','⭘','♙','♘','♗','♖','♕','♔']\n",
        "    new_indices = ['♚','♛','♜','♝','♞','♟',' ','♙','♘','♗','♖','♕','♔']\n",
        "    new_indices = ['♔','♕','♖','♗','♘','♟',' ','♙','♞','♝','♜','♛','♚']\n",
        "\n",
        "    unicode_board = [\n",
        "        [new_indices[indices.index(c)] for c in row.split()]\n",
        "        for row in board.unicode(invert_color=False).split('\\n')\n",
        "    ]\n",
        "\n",
        "\n",
        "    inline_chessboard = [\n",
        "        [InlineKeyboardButton(unicode_board[i][j], callback_data=f\"{f}{r}\") for j,f in enumerate(files)] for i,r in enumerate(ranks)\n",
        "    ]\n",
        "\n",
        "    if board.turn == chess.BLACK:\n",
        "        for row in inline_chessboard:\n",
        "          row.reverse()\n",
        "        inline_chessboard.reverse()\n",
        "\n",
        "    reply_markup = InlineKeyboardMarkup(inline_chessboard)\n",
        "    return reply_markup\n",
        "def button(update: Update, context: CallbackContext) -> None:\n",
        "    \"\"\"Parses the CallbackQuery and updates the message text.\"\"\"\n",
        "    query = update.callback_query\n",
        "\n",
        "    # CallbackQueries need to be answered, even if no notification to the user is needed\n",
        "    # Some clients may have trouble otherwise. See https://core.telegram.org/bots/api#callbackquery\n",
        "    query.answer()\n",
        "\n",
        "    context.bot.send_message(chat_id=update.effective_chat.id, text=f\"{query.data}\")\n",
        "\n",
        "    dp.add_handler(CallbackQueryHandler(button))\n",
        "def check_answers(update: Update, context: CallbackContext):\n",
        "    text = update.message.text.strip()\n",
        "    chat_id = update.effective_chat.id\n",
        "    solutions = context.bot_data[chat_id][\"solutions\"]\n",
        "    for solution in solutions.values():\n",
        "        if text in solution:\n",
        "            context.bot.send_message(chat_id=update.effective_chat.id, text=f\"Good job! The solution was {solutions[1]}.\")\n",
        "            puzzle(update, context)\n",
        "            break\n",
        "\n",
        "    dp.add_handler(MessageHandler(Filters.text & (~Filters.command), check_answers))"
      ]
    }
  ],
  "metadata": {
    "colab": {
      "provenance": []
    },
    "kernelspec": {
      "display_name": "Python 3",
      "name": "python3"
    },
    "language_info": {
      "codemirror_mode": {
        "name": "ipython",
        "version": 3
      },
      "file_extension": ".py",
      "mimetype": "text/x-python",
      "name": "python",
      "nbconvert_exporter": "python",
      "pygments_lexer": "ipython3",
      "version": "3.10.8"
    }
  },
  "nbformat": 4,
  "nbformat_minor": 0
}
